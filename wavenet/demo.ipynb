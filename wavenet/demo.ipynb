{
 "cells": [
  {
   "cell_type": "code",
   "execution_count": null,
   "metadata": {},
   "outputs": [],
   "source": [
    "import os\n",
    "import torch\n",
    "from torch import nn, optim\n",
    "import numpy as np\n",
    "import matplotlib.pyplot as plt\n",
    "\n",
    "from wavenet.wn.audiodata import AudioData, AudioLoader\n",
    "from wavenet.wn.models import Model, Generator\n",
    "from wavenet.wn.utils import list_files\n",
    "\n",
    "%matplotlib inline\n",
    "\n",
    "x_len = 2**10\n",
    "num_classes = 256\n",
    "num_layers = 8\n",
    "num_blocks = 2\n",
    "num_hidden = 32\n",
    "kernel_size = 2\n",
    "learn_rate = 0.001\n",
    "step_size = 50\n",
    "gamma = 0.8\n",
    "batch_size = 8\n",
    "num_workers = 1\n",
    "num_epochs = 5\n",
    "model_file = 'model.pt'\n",
    "use_visdom = True\n",
    "n_new_samples = 1000\n",
    "disp_interval = 1\n",
    "device = torch.device('cpu')"
   ]
  },
  {
   "cell_type": "markdown",
   "metadata": {},
   "source": [
    "## Create dataset and dataloader"
   ]
  },
  {
   "cell_type": "code",
   "execution_count": null,
   "metadata": {},
   "outputs": [],
   "source": [
    "filelist = list_files('./audio')\n",
    "\n",
    "def get_ylen(x_len, num_layers, num_blocks, kernel_size):\n",
    "    rec_field = 1 + (kernel_size - 1) * \\\n",
    "                num_blocks * sum([2**k for k in range(num_layers)])\n",
    "    return x_len - rec_field\n",
    "\n",
    "y_len = get_ylen(x_len, num_layers, num_blocks, kernel_size)\n",
    "print('y_len: {}'.format(y_len))\n",
    "\n",
    "dataset = AudioData(filelist, x_len, y_len=y_len, \n",
    "                    num_classes=num_classes,store_tracks=True)\n",
    "dataloader = AudioLoader(dataset, batch_size=batch_size, \n",
    "                         num_workers=num_workers)"
   ]
  },
  {
   "cell_type": "markdown",
   "metadata": {},
   "source": [
    "## Define and train model"
   ]
  },
  {
   "cell_type": "code",
   "execution_count": null,
   "metadata": {
    "collapsed": true
   },
   "outputs": [],
   "source": [
    "wave_model = Model(x_len, num_channels=1, num_classes=num_classes, \n",
    "                   num_blocks=num_blocks, num_layers=num_layers,\n",
    "                   num_hidden=num_hidden, kernel_size=kernel_size)"
   ]
  },
  {
   "cell_type": "code",
   "execution_count": null,
   "metadata": {
    "collapsed": true
   },
   "outputs": [],
   "source": [
    "wave_model.set_device(device)\n",
    "if os.path.isfile(model_file):\n",
    "    print('Loading model data from file: {}'.format(model_file))\n",
    "    wave_model.load_state_dict(torch.load(model_file))\n",
    "else:\n",
    "    print('Model data not found: {}'.format(model_file))\n",
    "    print('Training new model.')\n",
    "    wave_model.criterion = nn.CrossEntropyLoss()\n",
    "    wave_model.optimizer = optim.Adam(wave_model.parameters(), \n",
    "                                      lr=learn_rate)\n",
    "    wave_model.scheduler = optim.lr_scheduler.StepLR(\n",
    "        wave_model.optimizer, step_size=step_size, gamma=gamma)\n",
    "    \n",
    "    wave_model.train(dataloader, num_epochs=num_epochs, \n",
    "                     disp_interval=disp_interval, \n",
    "                     use_visdom=use_visdom)\n",
    "\n",
    "    print('Saving model data to file: {}'.format(model_file))\n",
    "    torch.save(wave_model.state_dict(), model_file)"
   ]
  },
  {
   "cell_type": "markdown",
   "metadata": {},
   "source": [
    "## Predict sequence"
   ]
  },
  {
   "cell_type": "code",
   "execution_count": null,
   "metadata": {
    "collapsed": true
   },
   "outputs": [],
   "source": [
    "wave_generator = Generator(wave_model, dataset)\n",
    "\n",
    "n_total_samples = x_len + n_new_samples\n",
    "audio = dataset.tracks[0]['audio'][:n_total_samples]\n",
    "sample_rate = dataset.tracks[0]['sample_rate']\n",
    "x = audio[:x_len]\n",
    "n_predictions = n_total_samples - x_len"
   ]
  },
  {
   "cell_type": "code",
   "execution_count": null,
   "metadata": {
    "collapsed": true
   },
   "outputs": [],
   "source": [
    "print('Predicting {} samples'.format(n_predictions))\n",
    "y = wave_generator.run(x, n_predictions, disp_interval=100)"
   ]
  },
  {
   "cell_type": "code",
   "execution_count": null,
   "metadata": {
    "collapsed": true
   },
   "outputs": [],
   "source": [
    "idxs = np.linspace(0, \n",
    "                   (n_total_samples - 1) * sample_rate, \n",
    "                   n_total_samples)\n",
    "enc = dataset.encoder\n",
    "reencoded_audio = enc.expand(enc.normalize(audio, span='minmax'))\n",
    "plt.plot(idxs, reencoded_audio, 'b')\n",
    "plt.plot(idxs[x_len:], y, 'r')"
   ]
  }
 ],
 "metadata": {
  "kernelspec": {
   "display_name": "Python [conda env:PyTorchSIIM]",
   "language": "python",
   "name": "conda-env-PyTorchSIIM-py"
  },
  "language_info": {
   "codemirror_mode": {
    "name": "ipython",
    "version": 3
   },
   "file_extension": ".py",
   "mimetype": "text/x-python",
   "name": "python",
   "nbconvert_exporter": "python",
   "pygments_lexer": "ipython3",
   "version": "3.6.5"
  }
 },
 "nbformat": 4,
 "nbformat_minor": 2
}